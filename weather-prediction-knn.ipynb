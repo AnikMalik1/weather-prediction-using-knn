{
 "cells": [
  {
   "cell_type": "markdown",
   "id": "63eb099f",
   "metadata": {
    "papermill": {
     "duration": 0.009453,
     "end_time": "2024-07-02T05:05:48.879308",
     "exception": false,
     "start_time": "2024-07-02T05:05:48.869855",
     "status": "completed"
    },
    "tags": []
   },
   "source": [
    "In this project, I developed a weather prediction model using the K-Nearest Neighbors (KNN) algorithm. The dataset consists of weather conditions over several years, including temperature, humidity, wind speed, and other relevant features. The project involved the following steps:"
   ]
  },
  {
   "cell_type": "markdown",
   "id": "4a0bd935",
   "metadata": {
    "papermill": {
     "duration": 0.008506,
     "end_time": "2024-07-02T05:05:48.896979",
     "exception": false,
     "start_time": "2024-07-02T05:05:48.888473",
     "status": "completed"
    },
    "tags": []
   },
   "source": [
    "1. **Data Preprocessing**: Handled missing values, normalized the data, and performed feature engineering to enhance the dataset's predictive power.\n",
    "2. **Exploratory Data Analysis (EDA)**: Analyzed the distribution of weather conditions and visualized the relationships between different features using scatter plots and heatmaps.\n",
    "3. **Model Development**: Implemented the KNN algorithm, optimizing the number of neighbors (k) using cross-validation to achieve the best performance.\n",
    "4. **Model Evaluation:** Evaluated the model using accuracy, precision, recall, and F1-score. The final model achieved an impressive accuracy of 93.39%.\n",
    "5. **Results**: Presented confusion matrices and classification reports to provide a detailed evaluation of the model's performance."
   ]
  },
  {
   "cell_type": "code",
   "execution_count": 1,
   "id": "ac8bf2ef",
   "metadata": {
    "execution": {
     "iopub.execute_input": "2024-07-02T05:05:48.918160Z",
     "iopub.status.busy": "2024-07-02T05:05:48.917717Z",
     "iopub.status.idle": "2024-07-02T05:05:52.497959Z",
     "shell.execute_reply": "2024-07-02T05:05:52.496612Z"
    },
    "papermill": {
     "duration": 3.593471,
     "end_time": "2024-07-02T05:05:52.500434",
     "exception": false,
     "start_time": "2024-07-02T05:05:48.906963",
     "status": "completed"
    },
    "tags": []
   },
   "outputs": [
    {
     "name": "stdout",
     "output_type": "stream",
     "text": [
      "/kaggle/input/weather-prediction/seattle-weather.csv\n"
     ]
    }
   ],
   "source": [
    "import pandas as pd\n",
    "import numpy as np\n",
    "import seaborn as sns\n",
    "import time\n",
    "\n",
    "from sklearn.model_selection import train_test_split\n",
    "from sklearn.preprocessing import MinMaxScaler\n",
    "from sklearn.preprocessing import StandardScaler\n",
    "import matplotlib.pyplot as plt\n",
    "from sklearn.cluster import KMeans\n",
    "from sklearn.neighbors import KNeighborsClassifier\n",
    "from sklearn.model_selection import train_test_split, GridSearchCV\n",
    "from sklearn.preprocessing import StandardScaler\n",
    "from sklearn.metrics import accuracy_score, precision_score, recall_score, f1_score\n",
    "\n",
    "\n",
    "import os\n",
    "for dirname, _, filenames in os.walk('/kaggle/input'):\n",
    "    for filename in filenames:\n",
    "        print(os.path.join(dirname, filename))"
   ]
  },
  {
   "cell_type": "markdown",
   "id": "0c5a06aa",
   "metadata": {
    "papermill": {
     "duration": 0.008469,
     "end_time": "2024-07-02T05:05:52.517641",
     "exception": false,
     "start_time": "2024-07-02T05:05:52.509172",
     "status": "completed"
    },
    "tags": []
   },
   "source": [
    "# Data Preprocessing"
   ]
  },
  {
   "cell_type": "code",
   "execution_count": 2,
   "id": "98fd1aed",
   "metadata": {
    "execution": {
     "iopub.execute_input": "2024-07-02T05:05:52.537100Z",
     "iopub.status.busy": "2024-07-02T05:05:52.536518Z",
     "iopub.status.idle": "2024-07-02T05:05:52.586151Z",
     "shell.execute_reply": "2024-07-02T05:05:52.584915Z"
    },
    "papermill": {
     "duration": 0.062561,
     "end_time": "2024-07-02T05:05:52.588900",
     "exception": false,
     "start_time": "2024-07-02T05:05:52.526339",
     "status": "completed"
    },
    "tags": []
   },
   "outputs": [
    {
     "data": {
      "text/html": [
       "<div>\n",
       "<style scoped>\n",
       "    .dataframe tbody tr th:only-of-type {\n",
       "        vertical-align: middle;\n",
       "    }\n",
       "\n",
       "    .dataframe tbody tr th {\n",
       "        vertical-align: top;\n",
       "    }\n",
       "\n",
       "    .dataframe thead th {\n",
       "        text-align: right;\n",
       "    }\n",
       "</style>\n",
       "<table border=\"1\" class=\"dataframe\">\n",
       "  <thead>\n",
       "    <tr style=\"text-align: right;\">\n",
       "      <th></th>\n",
       "      <th>date</th>\n",
       "      <th>precipitation</th>\n",
       "      <th>temp_max</th>\n",
       "      <th>temp_min</th>\n",
       "      <th>wind</th>\n",
       "      <th>weather</th>\n",
       "    </tr>\n",
       "  </thead>\n",
       "  <tbody>\n",
       "    <tr>\n",
       "      <th>0</th>\n",
       "      <td>2012-01-01</td>\n",
       "      <td>0.0</td>\n",
       "      <td>12.8</td>\n",
       "      <td>5.0</td>\n",
       "      <td>4.7</td>\n",
       "      <td>drizzle</td>\n",
       "    </tr>\n",
       "    <tr>\n",
       "      <th>1</th>\n",
       "      <td>2012-01-02</td>\n",
       "      <td>10.9</td>\n",
       "      <td>10.6</td>\n",
       "      <td>2.8</td>\n",
       "      <td>4.5</td>\n",
       "      <td>rain</td>\n",
       "    </tr>\n",
       "    <tr>\n",
       "      <th>2</th>\n",
       "      <td>2012-01-03</td>\n",
       "      <td>0.8</td>\n",
       "      <td>11.7</td>\n",
       "      <td>7.2</td>\n",
       "      <td>2.3</td>\n",
       "      <td>rain</td>\n",
       "    </tr>\n",
       "    <tr>\n",
       "      <th>3</th>\n",
       "      <td>2012-01-04</td>\n",
       "      <td>20.3</td>\n",
       "      <td>12.2</td>\n",
       "      <td>5.6</td>\n",
       "      <td>4.7</td>\n",
       "      <td>rain</td>\n",
       "    </tr>\n",
       "    <tr>\n",
       "      <th>4</th>\n",
       "      <td>2012-01-05</td>\n",
       "      <td>1.3</td>\n",
       "      <td>8.9</td>\n",
       "      <td>2.8</td>\n",
       "      <td>6.1</td>\n",
       "      <td>rain</td>\n",
       "    </tr>\n",
       "  </tbody>\n",
       "</table>\n",
       "</div>"
      ],
      "text/plain": [
       "         date  precipitation  temp_max  temp_min  wind  weather\n",
       "0  2012-01-01            0.0      12.8       5.0   4.7  drizzle\n",
       "1  2012-01-02           10.9      10.6       2.8   4.5     rain\n",
       "2  2012-01-03            0.8      11.7       7.2   2.3     rain\n",
       "3  2012-01-04           20.3      12.2       5.6   4.7     rain\n",
       "4  2012-01-05            1.3       8.9       2.8   6.1     rain"
      ]
     },
     "execution_count": 2,
     "metadata": {},
     "output_type": "execute_result"
    }
   ],
   "source": [
    "df = pd.read_csv('/kaggle/input/weather-prediction/seattle-weather.csv')\n",
    "df.head()"
   ]
  },
  {
   "cell_type": "code",
   "execution_count": 3,
   "id": "33b87e62",
   "metadata": {
    "execution": {
     "iopub.execute_input": "2024-07-02T05:05:52.608577Z",
     "iopub.status.busy": "2024-07-02T05:05:52.608176Z",
     "iopub.status.idle": "2024-07-02T05:05:52.620053Z",
     "shell.execute_reply": "2024-07-02T05:05:52.618540Z"
    },
    "papermill": {
     "duration": 0.024698,
     "end_time": "2024-07-02T05:05:52.622574",
     "exception": false,
     "start_time": "2024-07-02T05:05:52.597876",
     "status": "completed"
    },
    "tags": []
   },
   "outputs": [],
   "source": [
    "df.drop(columns=['date'], inplace=True)"
   ]
  },
  {
   "cell_type": "code",
   "execution_count": 4,
   "id": "bacdf7b6",
   "metadata": {
    "execution": {
     "iopub.execute_input": "2024-07-02T05:05:52.642240Z",
     "iopub.status.busy": "2024-07-02T05:05:52.641835Z",
     "iopub.status.idle": "2024-07-02T05:05:52.653356Z",
     "shell.execute_reply": "2024-07-02T05:05:52.652259Z"
    },
    "papermill": {
     "duration": 0.024331,
     "end_time": "2024-07-02T05:05:52.655930",
     "exception": false,
     "start_time": "2024-07-02T05:05:52.631599",
     "status": "completed"
    },
    "tags": []
   },
   "outputs": [
    {
     "data": {
      "text/plain": [
       "precipitation    0\n",
       "temp_max         0\n",
       "temp_min         0\n",
       "wind             0\n",
       "weather          0\n",
       "dtype: int64"
      ]
     },
     "execution_count": 4,
     "metadata": {},
     "output_type": "execute_result"
    }
   ],
   "source": [
    "df.isnull().sum()"
   ]
  },
  {
   "cell_type": "code",
   "execution_count": 5,
   "id": "421d200e",
   "metadata": {
    "execution": {
     "iopub.execute_input": "2024-07-02T05:05:52.676435Z",
     "iopub.status.busy": "2024-07-02T05:05:52.675475Z",
     "iopub.status.idle": "2024-07-02T05:05:52.701442Z",
     "shell.execute_reply": "2024-07-02T05:05:52.700187Z"
    },
    "papermill": {
     "duration": 0.039309,
     "end_time": "2024-07-02T05:05:52.704345",
     "exception": false,
     "start_time": "2024-07-02T05:05:52.665036",
     "status": "completed"
    },
    "tags": []
   },
   "outputs": [
    {
     "data": {
      "text/html": [
       "<div>\n",
       "<style scoped>\n",
       "    .dataframe tbody tr th:only-of-type {\n",
       "        vertical-align: middle;\n",
       "    }\n",
       "\n",
       "    .dataframe tbody tr th {\n",
       "        vertical-align: top;\n",
       "    }\n",
       "\n",
       "    .dataframe thead th {\n",
       "        text-align: right;\n",
       "    }\n",
       "</style>\n",
       "<table border=\"1\" class=\"dataframe\">\n",
       "  <thead>\n",
       "    <tr style=\"text-align: right;\">\n",
       "      <th></th>\n",
       "      <th>precipitation</th>\n",
       "      <th>temp_max</th>\n",
       "      <th>temp_min</th>\n",
       "      <th>wind</th>\n",
       "      <th>weather</th>\n",
       "    </tr>\n",
       "  </thead>\n",
       "  <tbody>\n",
       "    <tr>\n",
       "      <th>188</th>\n",
       "      <td>0.0</td>\n",
       "      <td>26.7</td>\n",
       "      <td>12.8</td>\n",
       "      <td>3.8</td>\n",
       "      <td>sun</td>\n",
       "    </tr>\n",
       "    <tr>\n",
       "      <th>629</th>\n",
       "      <td>0.0</td>\n",
       "      <td>21.1</td>\n",
       "      <td>13.3</td>\n",
       "      <td>2.5</td>\n",
       "      <td>sun</td>\n",
       "    </tr>\n",
       "    <tr>\n",
       "      <th>748</th>\n",
       "      <td>0.0</td>\n",
       "      <td>9.4</td>\n",
       "      <td>0.6</td>\n",
       "      <td>2.2</td>\n",
       "      <td>sun</td>\n",
       "    </tr>\n",
       "    <tr>\n",
       "      <th>751</th>\n",
       "      <td>0.0</td>\n",
       "      <td>10.0</td>\n",
       "      <td>1.7</td>\n",
       "      <td>1.5</td>\n",
       "      <td>sun</td>\n",
       "    </tr>\n",
       "    <tr>\n",
       "      <th>863</th>\n",
       "      <td>0.0</td>\n",
       "      <td>26.7</td>\n",
       "      <td>12.8</td>\n",
       "      <td>3.8</td>\n",
       "      <td>sun</td>\n",
       "    </tr>\n",
       "    <tr>\n",
       "      <th>959</th>\n",
       "      <td>0.0</td>\n",
       "      <td>27.8</td>\n",
       "      <td>15.0</td>\n",
       "      <td>2.8</td>\n",
       "      <td>sun</td>\n",
       "    </tr>\n",
       "    <tr>\n",
       "      <th>1019</th>\n",
       "      <td>0.0</td>\n",
       "      <td>20.6</td>\n",
       "      <td>11.1</td>\n",
       "      <td>3.3</td>\n",
       "      <td>sun</td>\n",
       "    </tr>\n",
       "    <tr>\n",
       "      <th>1346</th>\n",
       "      <td>0.0</td>\n",
       "      <td>22.8</td>\n",
       "      <td>13.3</td>\n",
       "      <td>2.4</td>\n",
       "      <td>sun</td>\n",
       "    </tr>\n",
       "  </tbody>\n",
       "</table>\n",
       "</div>"
      ],
      "text/plain": [
       "      precipitation  temp_max  temp_min  wind weather\n",
       "188             0.0      26.7      12.8   3.8     sun\n",
       "629             0.0      21.1      13.3   2.5     sun\n",
       "748             0.0       9.4       0.6   2.2     sun\n",
       "751             0.0      10.0       1.7   1.5     sun\n",
       "863             0.0      26.7      12.8   3.8     sun\n",
       "959             0.0      27.8      15.0   2.8     sun\n",
       "1019            0.0      20.6      11.1   3.3     sun\n",
       "1346            0.0      22.8      13.3   2.4     sun"
      ]
     },
     "execution_count": 5,
     "metadata": {},
     "output_type": "execute_result"
    }
   ],
   "source": [
    "df[df.duplicated()]"
   ]
  },
  {
   "cell_type": "code",
   "execution_count": 6,
   "id": "71f0e981",
   "metadata": {
    "execution": {
     "iopub.execute_input": "2024-07-02T05:05:52.725230Z",
     "iopub.status.busy": "2024-07-02T05:05:52.724840Z",
     "iopub.status.idle": "2024-07-02T05:05:52.742834Z",
     "shell.execute_reply": "2024-07-02T05:05:52.741741Z"
    },
    "papermill": {
     "duration": 0.031196,
     "end_time": "2024-07-02T05:05:52.745289",
     "exception": false,
     "start_time": "2024-07-02T05:05:52.714093",
     "status": "completed"
    },
    "tags": []
   },
   "outputs": [
    {
     "data": {
      "text/html": [
       "<div>\n",
       "<style scoped>\n",
       "    .dataframe tbody tr th:only-of-type {\n",
       "        vertical-align: middle;\n",
       "    }\n",
       "\n",
       "    .dataframe tbody tr th {\n",
       "        vertical-align: top;\n",
       "    }\n",
       "\n",
       "    .dataframe thead th {\n",
       "        text-align: right;\n",
       "    }\n",
       "</style>\n",
       "<table border=\"1\" class=\"dataframe\">\n",
       "  <thead>\n",
       "    <tr style=\"text-align: right;\">\n",
       "      <th></th>\n",
       "      <th>precipitation</th>\n",
       "      <th>temp_max</th>\n",
       "      <th>temp_min</th>\n",
       "      <th>wind</th>\n",
       "      <th>weather</th>\n",
       "    </tr>\n",
       "  </thead>\n",
       "  <tbody>\n",
       "    <tr>\n",
       "      <th>0</th>\n",
       "      <td>0.0</td>\n",
       "      <td>12.8</td>\n",
       "      <td>5.0</td>\n",
       "      <td>4.7</td>\n",
       "      <td>drizzle</td>\n",
       "    </tr>\n",
       "    <tr>\n",
       "      <th>1</th>\n",
       "      <td>10.9</td>\n",
       "      <td>10.6</td>\n",
       "      <td>2.8</td>\n",
       "      <td>4.5</td>\n",
       "      <td>rain</td>\n",
       "    </tr>\n",
       "    <tr>\n",
       "      <th>2</th>\n",
       "      <td>0.8</td>\n",
       "      <td>11.7</td>\n",
       "      <td>7.2</td>\n",
       "      <td>2.3</td>\n",
       "      <td>rain</td>\n",
       "    </tr>\n",
       "    <tr>\n",
       "      <th>3</th>\n",
       "      <td>20.3</td>\n",
       "      <td>12.2</td>\n",
       "      <td>5.6</td>\n",
       "      <td>4.7</td>\n",
       "      <td>rain</td>\n",
       "    </tr>\n",
       "    <tr>\n",
       "      <th>4</th>\n",
       "      <td>1.3</td>\n",
       "      <td>8.9</td>\n",
       "      <td>2.8</td>\n",
       "      <td>6.1</td>\n",
       "      <td>rain</td>\n",
       "    </tr>\n",
       "    <tr>\n",
       "      <th>5</th>\n",
       "      <td>2.5</td>\n",
       "      <td>4.4</td>\n",
       "      <td>2.2</td>\n",
       "      <td>2.2</td>\n",
       "      <td>rain</td>\n",
       "    </tr>\n",
       "    <tr>\n",
       "      <th>6</th>\n",
       "      <td>0.0</td>\n",
       "      <td>7.2</td>\n",
       "      <td>2.8</td>\n",
       "      <td>2.3</td>\n",
       "      <td>rain</td>\n",
       "    </tr>\n",
       "    <tr>\n",
       "      <th>7</th>\n",
       "      <td>0.0</td>\n",
       "      <td>10.0</td>\n",
       "      <td>2.8</td>\n",
       "      <td>2.0</td>\n",
       "      <td>sun</td>\n",
       "    </tr>\n",
       "    <tr>\n",
       "      <th>8</th>\n",
       "      <td>4.3</td>\n",
       "      <td>9.4</td>\n",
       "      <td>5.0</td>\n",
       "      <td>3.4</td>\n",
       "      <td>rain</td>\n",
       "    </tr>\n",
       "    <tr>\n",
       "      <th>9</th>\n",
       "      <td>1.0</td>\n",
       "      <td>6.1</td>\n",
       "      <td>0.6</td>\n",
       "      <td>3.4</td>\n",
       "      <td>rain</td>\n",
       "    </tr>\n",
       "  </tbody>\n",
       "</table>\n",
       "</div>"
      ],
      "text/plain": [
       "   precipitation  temp_max  temp_min  wind  weather\n",
       "0            0.0      12.8       5.0   4.7  drizzle\n",
       "1           10.9      10.6       2.8   4.5     rain\n",
       "2            0.8      11.7       7.2   2.3     rain\n",
       "3           20.3      12.2       5.6   4.7     rain\n",
       "4            1.3       8.9       2.8   6.1     rain\n",
       "5            2.5       4.4       2.2   2.2     rain\n",
       "6            0.0       7.2       2.8   2.3     rain\n",
       "7            0.0      10.0       2.8   2.0      sun\n",
       "8            4.3       9.4       5.0   3.4     rain\n",
       "9            1.0       6.1       0.6   3.4     rain"
      ]
     },
     "execution_count": 6,
     "metadata": {},
     "output_type": "execute_result"
    }
   ],
   "source": [
    "df.head(10)"
   ]
  },
  {
   "cell_type": "code",
   "execution_count": 7,
   "id": "a17cd6ef",
   "metadata": {
    "execution": {
     "iopub.execute_input": "2024-07-02T05:05:52.766553Z",
     "iopub.status.busy": "2024-07-02T05:05:52.766161Z",
     "iopub.status.idle": "2024-07-02T05:05:52.780367Z",
     "shell.execute_reply": "2024-07-02T05:05:52.778926Z"
    },
    "papermill": {
     "duration": 0.027874,
     "end_time": "2024-07-02T05:05:52.782875",
     "exception": false,
     "start_time": "2024-07-02T05:05:52.755001",
     "status": "completed"
    },
    "tags": []
   },
   "outputs": [
    {
     "name": "stdout",
     "output_type": "stream",
     "text": [
      "      precipitation  temp_max  temp_min  wind  weather\n",
      "0               0.0      12.8       5.0   4.7        0\n",
      "1              10.9      10.6       2.8   4.5        2\n",
      "2               0.8      11.7       7.2   2.3        2\n",
      "3              20.3      12.2       5.6   4.7        2\n",
      "4               1.3       8.9       2.8   6.1        2\n",
      "...             ...       ...       ...   ...      ...\n",
      "1456            8.6       4.4       1.7   2.9        2\n",
      "1457            1.5       5.0       1.7   1.3        2\n",
      "1458            0.0       7.2       0.6   2.6        1\n",
      "1459            0.0       5.6      -1.0   3.4        4\n",
      "1460            0.0       5.6      -2.1   3.5        4\n",
      "\n",
      "[1461 rows x 5 columns]\n"
     ]
    }
   ],
   "source": [
    "# Define a mapping dictionary\n",
    "mapping = {'drizzle': 0, 'fog': 1, 'rain': 2, 'snow': 3, 'sun': 4}\n",
    "\n",
    "# Apply the mapping to the 'Category' column\n",
    "df['weather'] = df['weather'].map(mapping)\n",
    "print(df)"
   ]
  },
  {
   "cell_type": "markdown",
   "id": "d935d00e",
   "metadata": {
    "papermill": {
     "duration": 0.009372,
     "end_time": "2024-07-02T05:05:52.802077",
     "exception": false,
     "start_time": "2024-07-02T05:05:52.792705",
     "status": "completed"
    },
    "tags": []
   },
   "source": [
    "## Cleaning Outliers"
   ]
  },
  {
   "cell_type": "code",
   "execution_count": 8,
   "id": "72702dd5",
   "metadata": {
    "execution": {
     "iopub.execute_input": "2024-07-02T05:05:52.823357Z",
     "iopub.status.busy": "2024-07-02T05:05:52.822919Z",
     "iopub.status.idle": "2024-07-02T05:05:52.852092Z",
     "shell.execute_reply": "2024-07-02T05:05:52.850975Z"
    },
    "papermill": {
     "duration": 0.042725,
     "end_time": "2024-07-02T05:05:52.854539",
     "exception": false,
     "start_time": "2024-07-02T05:05:52.811814",
     "status": "completed"
    },
    "tags": []
   },
   "outputs": [
    {
     "data": {
      "text/html": [
       "<div>\n",
       "<style scoped>\n",
       "    .dataframe tbody tr th:only-of-type {\n",
       "        vertical-align: middle;\n",
       "    }\n",
       "\n",
       "    .dataframe tbody tr th {\n",
       "        vertical-align: top;\n",
       "    }\n",
       "\n",
       "    .dataframe thead th {\n",
       "        text-align: right;\n",
       "    }\n",
       "</style>\n",
       "<table border=\"1\" class=\"dataframe\">\n",
       "  <thead>\n",
       "    <tr style=\"text-align: right;\">\n",
       "      <th></th>\n",
       "      <th>precipitation</th>\n",
       "      <th>temp_max</th>\n",
       "      <th>temp_min</th>\n",
       "      <th>wind</th>\n",
       "    </tr>\n",
       "  </thead>\n",
       "  <tbody>\n",
       "    <tr>\n",
       "      <th>count</th>\n",
       "      <td>1461.000000</td>\n",
       "      <td>1461.000000</td>\n",
       "      <td>1461.000000</td>\n",
       "      <td>1461.000000</td>\n",
       "    </tr>\n",
       "    <tr>\n",
       "      <th>mean</th>\n",
       "      <td>3.029432</td>\n",
       "      <td>16.439083</td>\n",
       "      <td>8.234771</td>\n",
       "      <td>3.241136</td>\n",
       "    </tr>\n",
       "    <tr>\n",
       "      <th>std</th>\n",
       "      <td>6.680194</td>\n",
       "      <td>7.349758</td>\n",
       "      <td>5.023004</td>\n",
       "      <td>1.437825</td>\n",
       "    </tr>\n",
       "    <tr>\n",
       "      <th>min</th>\n",
       "      <td>0.000000</td>\n",
       "      <td>-1.600000</td>\n",
       "      <td>-7.100000</td>\n",
       "      <td>0.400000</td>\n",
       "    </tr>\n",
       "    <tr>\n",
       "      <th>25%</th>\n",
       "      <td>0.000000</td>\n",
       "      <td>10.600000</td>\n",
       "      <td>4.400000</td>\n",
       "      <td>2.200000</td>\n",
       "    </tr>\n",
       "    <tr>\n",
       "      <th>50%</th>\n",
       "      <td>0.000000</td>\n",
       "      <td>15.600000</td>\n",
       "      <td>8.300000</td>\n",
       "      <td>3.000000</td>\n",
       "    </tr>\n",
       "    <tr>\n",
       "      <th>75%</th>\n",
       "      <td>2.800000</td>\n",
       "      <td>22.200000</td>\n",
       "      <td>12.200000</td>\n",
       "      <td>4.000000</td>\n",
       "    </tr>\n",
       "    <tr>\n",
       "      <th>max</th>\n",
       "      <td>55.900000</td>\n",
       "      <td>35.600000</td>\n",
       "      <td>18.300000</td>\n",
       "      <td>9.500000</td>\n",
       "    </tr>\n",
       "  </tbody>\n",
       "</table>\n",
       "</div>"
      ],
      "text/plain": [
       "       precipitation     temp_max     temp_min         wind\n",
       "count    1461.000000  1461.000000  1461.000000  1461.000000\n",
       "mean        3.029432    16.439083     8.234771     3.241136\n",
       "std         6.680194     7.349758     5.023004     1.437825\n",
       "min         0.000000    -1.600000    -7.100000     0.400000\n",
       "25%         0.000000    10.600000     4.400000     2.200000\n",
       "50%         0.000000    15.600000     8.300000     3.000000\n",
       "75%         2.800000    22.200000    12.200000     4.000000\n",
       "max        55.900000    35.600000    18.300000     9.500000"
      ]
     },
     "execution_count": 8,
     "metadata": {},
     "output_type": "execute_result"
    }
   ],
   "source": [
    "column = ['precipitation','temp_max','temp_min', 'wind']\n",
    "df[column].describe()"
   ]
  },
  {
   "cell_type": "code",
   "execution_count": 9,
   "id": "85347a9d",
   "metadata": {
    "execution": {
     "iopub.execute_input": "2024-07-02T05:05:52.876586Z",
     "iopub.status.busy": "2024-07-02T05:05:52.876154Z",
     "iopub.status.idle": "2024-07-02T05:05:53.694546Z",
     "shell.execute_reply": "2024-07-02T05:05:53.693438Z"
    },
    "papermill": {
     "duration": 0.832925,
     "end_time": "2024-07-02T05:05:53.697691",
     "exception": false,
     "start_time": "2024-07-02T05:05:52.864766",
     "status": "completed"
    },
    "tags": []
   },
   "outputs": [
    {
     "data": {
      "image/png": "[encoded data removed]",
      "text/plain": [
       "<Figure size 640x480 with 1 Axes>"
      ]
     },
     "metadata": {},
     "output_type": "display_data"
    },
    {
     "data": {
      "image/png": "[encoded data removed]",
      "text/plain": [
       "<Figure size 640x480 with 1 Axes>"
      ]
     },
     "metadata": {},
     "output_type": "display_data"
    },
    {
     "data": {
      "image/png": "[encoded data removed]",
      "text/plain": [
       "<Figure size 640x480 with 1 Axes>"
      ]
     },
     "metadata": {},
     "output_type": "display_data"
    },
    {
     "data": {
      "image/png": "[encoded data removed]",
      "text/plain": [
       "<Figure size 640x480 with 1 Axes>"
      ]
     },
     "metadata": {},
     "output_type": "display_data"
    }
   ],
   "source": [
    "for cols in column:\n",
    "  sns.boxplot(x=df[cols])\n",
    "  plt.show()"
   ]
  },
  {
   "cell_type": "markdown",
   "id": "e0f31ff9",
   "metadata": {
    "papermill": {
     "duration": 0.01085,
     "end_time": "2024-07-02T05:05:53.720696",
     "exception": false,
     "start_time": "2024-07-02T05:05:53.709846",
     "status": "completed"
    },
    "tags": []
   },
   "source": [
    "# K-Means Clustering (Elbow Method)\n"
   ]
  },
  {
   "cell_type": "code",
   "execution_count": 10,
   "id": "1321a5dc",
   "metadata": {
    "execution": {
     "iopub.execute_input": "2024-07-02T05:05:53.744836Z",
     "iopub.status.busy": "2024-07-02T05:05:53.744366Z",
     "iopub.status.idle": "2024-07-02T05:05:54.770127Z",
     "shell.execute_reply": "2024-07-02T05:05:54.768991Z"
    },
    "papermill": {
     "duration": 1.041057,
     "end_time": "2024-07-02T05:05:54.772904",
     "exception": false,
     "start_time": "2024-07-02T05:05:53.731847",
     "status": "completed"
    },
    "tags": []
   },
   "outputs": [
    {
     "data": {
      "image/png": "[encoded data removed]",
      "text/plain": [
       "<Figure size 800x600 with 1 Axes>"
      ]
     },
     "metadata": {},
     "output_type": "display_data"
    }
   ],
   "source": [
    "inertias = []\n",
    "for i in range(1, 11):\n",
    "    kmeans = KMeans(n_clusters=i, random_state=42,  n_init=10)\n",
    "    kmeans.fit(df)\n",
    "    inertias.append(kmeans.inertia_)\n",
    "\n",
    "plt.figure(figsize=(8, 6))\n",
    "plt.plot(range(1, 11), inertias, marker='o')\n",
    "plt.xlabel('Cluster')\n",
    "plt.ylabel('Inersia')\n",
    "plt.title('Elbow Method')\n",
    "plt.show()"
   ]
  },
  {
   "cell_type": "markdown",
   "id": "f4a6ecb2",
   "metadata": {
    "papermill": {
     "duration": 0.011371,
     "end_time": "2024-07-02T05:05:54.796354",
     "exception": false,
     "start_time": "2024-07-02T05:05:54.784983",
     "status": "completed"
    },
    "tags": []
   },
   "source": []
  },
  {
   "cell_type": "code",
   "execution_count": 11,
   "id": "0ad1541e",
   "metadata": {
    "execution": {
     "iopub.execute_input": "2024-07-02T05:05:54.821525Z",
     "iopub.status.busy": "2024-07-02T05:05:54.821150Z",
     "iopub.status.idle": "2024-07-02T05:05:54.889185Z",
     "shell.execute_reply": "2024-07-02T05:05:54.888089Z"
    },
    "papermill": {
     "duration": 0.083842,
     "end_time": "2024-07-02T05:05:54.892042",
     "exception": false,
     "start_time": "2024-07-02T05:05:54.808200",
     "status": "completed"
    },
    "tags": []
   },
   "outputs": [],
   "source": [
    "scaler = StandardScaler()\n",
    "scaled_features = scaler.fit_transform(df)\n",
    "\n",
    "n_clusters = 5\n",
    "\n",
    "kmeans = KMeans(n_clusters=n_clusters, random_state=42,  n_init=10)\n",
    "df['cluster'] = kmeans.fit_predict(scaled_features)\n",
    "\n",
    "df.to_csv('data_baru.csv', index=False)"
   ]
  },
  {
   "cell_type": "code",
   "execution_count": 12,
   "id": "a3910d89",
   "metadata": {
    "execution": {
     "iopub.execute_input": "2024-07-02T05:05:54.917783Z",
     "iopub.status.busy": "2024-07-02T05:05:54.917349Z",
     "iopub.status.idle": "2024-07-02T05:05:54.945442Z",
     "shell.execute_reply": "2024-07-02T05:05:54.943163Z"
    },
    "papermill": {
     "duration": 0.045896,
     "end_time": "2024-07-02T05:05:54.949783",
     "exception": false,
     "start_time": "2024-07-02T05:05:54.903887",
     "status": "completed"
    },
    "tags": []
   },
   "outputs": [
    {
     "data": {
      "text/html": [
       "<div>\n",
       "<style scoped>\n",
       "    .dataframe tbody tr th:only-of-type {\n",
       "        vertical-align: middle;\n",
       "    }\n",
       "\n",
       "    .dataframe tbody tr th {\n",
       "        vertical-align: top;\n",
       "    }\n",
       "\n",
       "    .dataframe thead th {\n",
       "        text-align: right;\n",
       "    }\n",
       "</style>\n",
       "<table border=\"1\" class=\"dataframe\">\n",
       "  <thead>\n",
       "    <tr style=\"text-align: right;\">\n",
       "      <th></th>\n",
       "      <th>precipitation</th>\n",
       "      <th>temp_max</th>\n",
       "      <th>temp_min</th>\n",
       "      <th>wind</th>\n",
       "      <th>weather</th>\n",
       "      <th>cluster</th>\n",
       "    </tr>\n",
       "  </thead>\n",
       "  <tbody>\n",
       "    <tr>\n",
       "      <th>0</th>\n",
       "      <td>0.0</td>\n",
       "      <td>12.8</td>\n",
       "      <td>5.0</td>\n",
       "      <td>4.7</td>\n",
       "      <td>0</td>\n",
       "      <td>1</td>\n",
       "    </tr>\n",
       "    <tr>\n",
       "      <th>1</th>\n",
       "      <td>10.9</td>\n",
       "      <td>10.6</td>\n",
       "      <td>2.8</td>\n",
       "      <td>4.5</td>\n",
       "      <td>2</td>\n",
       "      <td>1</td>\n",
       "    </tr>\n",
       "    <tr>\n",
       "      <th>2</th>\n",
       "      <td>0.8</td>\n",
       "      <td>11.7</td>\n",
       "      <td>7.2</td>\n",
       "      <td>2.3</td>\n",
       "      <td>2</td>\n",
       "      <td>4</td>\n",
       "    </tr>\n",
       "    <tr>\n",
       "      <th>3</th>\n",
       "      <td>20.3</td>\n",
       "      <td>12.2</td>\n",
       "      <td>5.6</td>\n",
       "      <td>4.7</td>\n",
       "      <td>2</td>\n",
       "      <td>2</td>\n",
       "    </tr>\n",
       "    <tr>\n",
       "      <th>4</th>\n",
       "      <td>1.3</td>\n",
       "      <td>8.9</td>\n",
       "      <td>2.8</td>\n",
       "      <td>6.1</td>\n",
       "      <td>2</td>\n",
       "      <td>1</td>\n",
       "    </tr>\n",
       "    <tr>\n",
       "      <th>...</th>\n",
       "      <td>...</td>\n",
       "      <td>...</td>\n",
       "      <td>...</td>\n",
       "      <td>...</td>\n",
       "      <td>...</td>\n",
       "      <td>...</td>\n",
       "    </tr>\n",
       "    <tr>\n",
       "      <th>95</th>\n",
       "      <td>4.6</td>\n",
       "      <td>9.4</td>\n",
       "      <td>2.8</td>\n",
       "      <td>1.8</td>\n",
       "      <td>3</td>\n",
       "      <td>4</td>\n",
       "    </tr>\n",
       "    <tr>\n",
       "      <th>96</th>\n",
       "      <td>0.3</td>\n",
       "      <td>11.1</td>\n",
       "      <td>3.3</td>\n",
       "      <td>2.6</td>\n",
       "      <td>2</td>\n",
       "      <td>4</td>\n",
       "    </tr>\n",
       "    <tr>\n",
       "      <th>97</th>\n",
       "      <td>0.0</td>\n",
       "      <td>16.1</td>\n",
       "      <td>1.7</td>\n",
       "      <td>4.3</td>\n",
       "      <td>4</td>\n",
       "      <td>1</td>\n",
       "    </tr>\n",
       "    <tr>\n",
       "      <th>98</th>\n",
       "      <td>0.0</td>\n",
       "      <td>21.1</td>\n",
       "      <td>7.2</td>\n",
       "      <td>4.1</td>\n",
       "      <td>4</td>\n",
       "      <td>3</td>\n",
       "    </tr>\n",
       "    <tr>\n",
       "      <th>99</th>\n",
       "      <td>0.0</td>\n",
       "      <td>20.0</td>\n",
       "      <td>6.1</td>\n",
       "      <td>2.1</td>\n",
       "      <td>4</td>\n",
       "      <td>3</td>\n",
       "    </tr>\n",
       "  </tbody>\n",
       "</table>\n",
       "<p>100 rows × 6 columns</p>\n",
       "</div>"
      ],
      "text/plain": [
       "    precipitation  temp_max  temp_min  wind  weather  cluster\n",
       "0             0.0      12.8       5.0   4.7        0        1\n",
       "1            10.9      10.6       2.8   4.5        2        1\n",
       "2             0.8      11.7       7.2   2.3        2        4\n",
       "3            20.3      12.2       5.6   4.7        2        2\n",
       "4             1.3       8.9       2.8   6.1        2        1\n",
       "..            ...       ...       ...   ...      ...      ...\n",
       "95            4.6       9.4       2.8   1.8        3        4\n",
       "96            0.3      11.1       3.3   2.6        2        4\n",
       "97            0.0      16.1       1.7   4.3        4        1\n",
       "98            0.0      21.1       7.2   4.1        4        3\n",
       "99            0.0      20.0       6.1   2.1        4        3\n",
       "\n",
       "[100 rows x 6 columns]"
      ]
     },
     "execution_count": 12,
     "metadata": {},
     "output_type": "execute_result"
    }
   ],
   "source": [
    "df_clean = pd.read_csv(\"data_baru.csv\")\n",
    "df_clean.head(100)"
   ]
  },
  {
   "cell_type": "markdown",
   "id": "3e252011",
   "metadata": {
    "papermill": {
     "duration": 0.012031,
     "end_time": "2024-07-02T05:05:54.975437",
     "exception": false,
     "start_time": "2024-07-02T05:05:54.963406",
     "status": "completed"
    },
    "tags": []
   },
   "source": [
    "# Split Dataset"
   ]
  },
  {
   "cell_type": "code",
   "execution_count": 13,
   "id": "ba3c27a5",
   "metadata": {
    "execution": {
     "iopub.execute_input": "2024-07-02T05:05:55.005493Z",
     "iopub.status.busy": "2024-07-02T05:05:55.005059Z",
     "iopub.status.idle": "2024-07-02T05:05:55.011695Z",
     "shell.execute_reply": "2024-07-02T05:05:55.010728Z"
    },
    "papermill": {
     "duration": 0.025349,
     "end_time": "2024-07-02T05:05:55.014218",
     "exception": false,
     "start_time": "2024-07-02T05:05:54.988869",
     "status": "completed"
    },
    "tags": []
   },
   "outputs": [],
   "source": [
    "X = df.drop(['cluster'], axis=1)\n",
    "y = df['cluster']"
   ]
  },
  {
   "cell_type": "code",
   "execution_count": 14,
   "id": "fbefda17",
   "metadata": {
    "execution": {
     "iopub.execute_input": "2024-07-02T05:05:55.040374Z",
     "iopub.status.busy": "2024-07-02T05:05:55.039945Z",
     "iopub.status.idle": "2024-07-02T05:05:55.049444Z",
     "shell.execute_reply": "2024-07-02T05:05:55.048200Z"
    },
    "papermill": {
     "duration": 0.025855,
     "end_time": "2024-07-02T05:05:55.052119",
     "exception": false,
     "start_time": "2024-07-02T05:05:55.026264",
     "status": "completed"
    },
    "tags": []
   },
   "outputs": [],
   "source": [
    "X_train, X_test, y_train, y_test = train_test_split(X, y, test_size = 0.3, random_state = 42)"
   ]
  },
  {
   "cell_type": "markdown",
   "id": "332c9ba4",
   "metadata": {
    "papermill": {
     "duration": 0.011972,
     "end_time": "2024-07-02T05:05:55.076281",
     "exception": false,
     "start_time": "2024-07-02T05:05:55.064309",
     "status": "completed"
    },
    "tags": []
   },
   "source": [
    "# Model Development"
   ]
  },
  {
   "cell_type": "code",
   "execution_count": 15,
   "id": "330bccbb",
   "metadata": {
    "execution": {
     "iopub.execute_input": "2024-07-02T05:05:55.102422Z",
     "iopub.status.busy": "2024-07-02T05:05:55.101996Z",
     "iopub.status.idle": "2024-07-02T05:05:55.107098Z",
     "shell.execute_reply": "2024-07-02T05:05:55.105854Z"
    },
    "papermill": {
     "duration": 0.021361,
     "end_time": "2024-07-02T05:05:55.109929",
     "exception": false,
     "start_time": "2024-07-02T05:05:55.088568",
     "status": "completed"
    },
    "tags": []
   },
   "outputs": [],
   "source": [
    "start_time = time.time()"
   ]
  },
  {
   "cell_type": "code",
   "execution_count": 16,
   "id": "640e131f",
   "metadata": {
    "execution": {
     "iopub.execute_input": "2024-07-02T05:05:55.136117Z",
     "iopub.status.busy": "2024-07-02T05:05:55.135711Z",
     "iopub.status.idle": "2024-07-02T05:05:56.171432Z",
     "shell.execute_reply": "2024-07-02T05:05:56.170055Z"
    },
    "papermill": {
     "duration": 1.052446,
     "end_time": "2024-07-02T05:05:56.174602",
     "exception": false,
     "start_time": "2024-07-02T05:05:55.122156",
     "status": "completed"
    },
    "tags": []
   },
   "outputs": [
    {
     "name": "stdout",
     "output_type": "stream",
     "text": [
      "Best Parameter {'metric': 'manhattan', 'n_neighbors': 9, 'weights': 'distance'}\n"
     ]
    }
   ],
   "source": [
    "knn = KNeighborsClassifier()\n",
    "\n",
    "param_grid = {'n_neighbors': [3, 5, 7, 9], 'weights': ['uniform', 'distance'], 'metric': ['euclidean', 'manhattan']}\n",
    "grid_search = GridSearchCV(knn, param_grid, cv=4)\n",
    "grid_search.fit(X_train, y_train)\n",
    "\n",
    "print(\"Best Parameter\", grid_search.best_params_)\n",
    "\n",
    "best_knn = grid_search.best_estimator_\n",
    "\n",
    "best_knn.fit(X_train, y_train)\n",
    "y_pred = best_knn.predict(X_test)"
   ]
  },
  {
   "cell_type": "markdown",
   "id": "0f08c383",
   "metadata": {
    "papermill": {
     "duration": 0.012096,
     "end_time": "2024-07-02T05:05:56.199466",
     "exception": false,
     "start_time": "2024-07-02T05:05:56.187370",
     "status": "completed"
    },
    "tags": []
   },
   "source": [
    "# Results"
   ]
  },
  {
   "cell_type": "code",
   "execution_count": 17,
   "id": "0c1cdfb6",
   "metadata": {
    "execution": {
     "iopub.execute_input": "2024-07-02T05:05:56.226350Z",
     "iopub.status.busy": "2024-07-02T05:05:56.225936Z",
     "iopub.status.idle": "2024-07-02T05:05:56.243570Z",
     "shell.execute_reply": "2024-07-02T05:05:56.242373Z"
    },
    "papermill": {
     "duration": 0.034193,
     "end_time": "2024-07-02T05:05:56.246366",
     "exception": false,
     "start_time": "2024-07-02T05:05:56.212173",
     "status": "completed"
    },
    "tags": []
   },
   "outputs": [
    {
     "name": "stdout",
     "output_type": "stream",
     "text": [
      "Accuracy: 0.9339407744874715\n",
      "Precicion: 0.9336140824406746\n",
      "Recall: 0.9339407744874715\n",
      "F1 Score: 0.9318768225059251\n"
     ]
    }
   ],
   "source": [
    "accuracy = accuracy_score(y_test, y_pred)\n",
    "print(\"Accuracy:\", accuracy)\n",
    "\n",
    "precision = precision_score(y_test, y_pred, average='weighted')\n",
    "print(\"Precicion:\", precision)\n",
    "\n",
    "recall = recall_score(y_test, y_pred, average='weighted')\n",
    "print(\"Recall:\", recall)\n",
    "\n",
    "f1 = f1_score(y_test, y_pred, average='weighted')\n",
    "print(\"F1 Score:\", f1)"
   ]
  },
  {
   "cell_type": "code",
   "execution_count": 18,
   "id": "adfc8722",
   "metadata": {
    "execution": {
     "iopub.execute_input": "2024-07-02T05:05:56.274310Z",
     "iopub.status.busy": "2024-07-02T05:05:56.273886Z",
     "iopub.status.idle": "2024-07-02T05:05:56.279413Z",
     "shell.execute_reply": "2024-07-02T05:05:56.278350Z"
    },
    "papermill": {
     "duration": 0.022769,
     "end_time": "2024-07-02T05:05:56.282830",
     "exception": false,
     "start_time": "2024-07-02T05:05:56.260061",
     "status": "completed"
    },
    "tags": []
   },
   "outputs": [
    {
     "name": "stdout",
     "output_type": "stream",
     "text": [
      "Time run: 1.1721363067626953 second\n"
     ]
    }
   ],
   "source": [
    "end_time = time.time()\n",
    "\n",
    "process_time = end_time - start_time\n",
    "\n",
    "print(f\"Time run: {process_time} second\")"
   ]
  },
  {
   "cell_type": "markdown",
   "id": "2450b01c",
   "metadata": {
    "papermill": {
     "duration": 0.012044,
     "end_time": "2024-07-02T05:05:56.307319",
     "exception": false,
     "start_time": "2024-07-02T05:05:56.295275",
     "status": "completed"
    },
    "tags": []
   },
   "source": [
    "**Conclusion:**\n",
    "The KNN-based weather prediction model achieved high accuracy, demonstrating the algorithm's effectiveness for this task. Future work includes exploring more advanced models like Random Forest and Gradient Boosting to further improve prediction accuracy."
   ]
  }
 ],
 "metadata": {
  "kaggle": {
   "accelerator": "none",
   "dataSources": [
    {
     "datasetId": 1868601,
     "sourceId": 3051857,
     "sourceType": "datasetVersion"
    }
   ],
   "dockerImageVersionId": 30732,
   "isGpuEnabled": false,
   "isInternetEnabled": true,
   "language": "python",
   "sourceType": "notebook"
  },
  "kernelspec": {
   "display_name": "Python 3",
   "language": "python",
   "name": "python3"
  },
  "language_info": {
   "codemirror_mode": {
    "name": "ipython",
    "version": 3
   },
   "file_extension": ".py",
   "mimetype": "text/x-python",
   "name": "python",
   "nbconvert_exporter": "python",
   "pygments_lexer": "ipython3",
   "version": "3.10.13"
  },
  "papermill": {
   "default_parameters": {},
   "duration": 11.664931,
   "end_time": "2024-07-02T05:05:57.042242",
   "environment_variables": {},
   "exception": null,
   "input_path": "__notebook__.ipynb",
   "output_path": "__notebook__.ipynb",
   "parameters": {},
   "start_time": "2024-07-02T05:05:45.377311",
   "version": "2.5.0"
  }
 },
 "nbformat": 4,
 "nbformat_minor": 5
}
